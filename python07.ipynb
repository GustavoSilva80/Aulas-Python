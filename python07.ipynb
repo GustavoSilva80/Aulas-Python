{
  "nbformat": 4,
  "nbformat_minor": 0,
  "metadata": {
    "colab": {
      "provenance": [],
      "authorship_tag": "ABX9TyNzmeqa3jz0SVGNFVejxWIo",
      "include_colab_link": true
    },
    "kernelspec": {
      "name": "python3",
      "display_name": "Python 3"
    },
    "language_info": {
      "name": "python"
    }
  },
  "cells": [
    {
      "cell_type": "markdown",
      "metadata": {
        "id": "view-in-github",
        "colab_type": "text"
      },
      "source": [
        "<a href=\"https://colab.research.google.com/github/GustavoSilva80/Aulas-Python/blob/main/python07.ipynb\" target=\"_parent\"><img src=\"https://colab.research.google.com/assets/colab-badge.svg\" alt=\"Open In Colab\"/></a>"
      ]
    },
    {
      "cell_type": "markdown",
      "source": [
        "Aula dia 28/04"
      ],
      "metadata": {
        "id": "wp1k4xxjQDK2"
      }
    },
    {
      "cell_type": "markdown",
      "source": [
        "#Operador not"
      ],
      "metadata": {
        "id": "npoJlutS0dKT"
      }
    },
    {
      "cell_type": "code",
      "execution_count": null,
      "metadata": {
        "colab": {
          "base_uri": "https://localhost:8080/"
        },
        "id": "RxqbqwVm0SST",
        "outputId": "b0822096-75e3-4e77-847a-3666e1ce31d9"
      },
      "outputs": [
        {
          "output_type": "stream",
          "name": "stdout",
          "text": [
            "Digite um número: 5\n",
            "Digite outro número: 2\n",
            "5<=2 = False\n",
            "Not res = True\n"
          ]
        }
      ],
      "source": [
        "#Operador not\n",
        "n1=int(input(\"Digite um número: \"))\n",
        "n2=int(input(\"Digite outro número: \"))\n",
        "res = n1 <= n2\n",
        "print(f\"{n1}<={n2} = {res}\")\n",
        "print(f\"Not res = {not res}\")"
      ]
    },
    {
      "cell_type": "markdown",
      "source": [
        "#Operador and"
      ],
      "metadata": {
        "id": "LY8O5Pq339E9"
      }
    },
    {
      "cell_type": "code",
      "source": [
        "#Operador and\n",
        "idade1=int(input(\"Digite uma idade : \"))\n",
        "idade2=int(input(\"Digite outra idade: \"))\n",
        "res=idade1>=18 and idade2>=18\n",
        "print(f\"res={idade1}>=18 and {idade2}>=18 , res={res}\")"
      ],
      "metadata": {
        "colab": {
          "base_uri": "https://localhost:8080/"
        },
        "id": "-D5uIIyi4ENx",
        "outputId": "c9febd0a-13ed-4d45-de23-8bdc7d927f78"
      },
      "execution_count": null,
      "outputs": [
        {
          "output_type": "stream",
          "name": "stdout",
          "text": [
            "Digite uma idade : 19\n",
            "Digite outra idade: 10\n",
            "res=19>=18 and 10>=18 , res=False\n"
          ]
        }
      ]
    },
    {
      "cell_type": "markdown",
      "source": [
        "#Validação de login e(and)senha"
      ],
      "metadata": {
        "id": "epyJhj5f6BcA"
      }
    },
    {
      "cell_type": "code",
      "source": [
        "login=input(\"Digite o usuário: \")\n",
        "senha=input(\"Digite a senha: \")\n",
        "\n",
        "login_bd=\"bete\"\n",
        "senha_bd=\"1234cinco\"\n",
        "\n",
        "res=login==login_bd and senha==senha_bd\n",
        "print(f\"{login} seu acesso esta ok? {res}\")"
      ],
      "metadata": {
        "colab": {
          "base_uri": "https://localhost:8080/"
        },
        "id": "tvg4Uplb6Ktu",
        "outputId": "717445a5-a4d7-413a-d54c-b17d2c223139"
      },
      "execution_count": null,
      "outputs": [
        {
          "output_type": "stream",
          "name": "stdout",
          "text": [
            "Digite o usuáriobete\n",
            "Digite a senha1234cinco\n",
            "bete seu acesso esta ok? True\n"
          ]
        }
      ]
    },
    {
      "cell_type": "code",
      "source": [
        "#Operador or\n",
        "idade3=int(input(\"Digite uma idade : \"))\n",
        "idade4=int(input(\"Digite outra idade: \"))\n",
        "res=idade3>=18 or idade4>=18\n",
        "print(f\"res={idade3}>=18 or {idade4}>=18 , res={res}\")"
      ],
      "metadata": {
        "colab": {
          "base_uri": "https://localhost:8080/"
        },
        "id": "xiU_MEylAmg3",
        "outputId": "fa0e0037-3da5-461b-e1a8-008952cb4534"
      },
      "execution_count": null,
      "outputs": [
        {
          "output_type": "stream",
          "name": "stdout",
          "text": [
            "Digite uma idade : 22\n",
            "Digite outra idade: 10\n",
            "res=22>=18 or 10>=18 , res=True\n"
          ]
        }
      ]
    },
    {
      "cell_type": "markdown",
      "source": [
        "#Utilização do IF"
      ],
      "metadata": {
        "id": "BhOguehHEaoi"
      }
    },
    {
      "cell_type": "code",
      "source": [
        "#if\n",
        "a=int(input(\"Digite um número: \"))\n",
        "b=18\n",
        "if a>=b:\n",
        "  print(f\"O número {a} é maior ou igual a {b}\")\n",
        "  print(\"continua...\")"
      ],
      "metadata": {
        "colab": {
          "base_uri": "https://localhost:8080/"
        },
        "id": "GrbtRXVBEbEC",
        "outputId": "65535839-5865-4be7-8ecb-0236e29523ac"
      },
      "execution_count": null,
      "outputs": [
        {
          "output_type": "stream",
          "name": "stdout",
          "text": [
            "Digite um número: 20\n",
            "O número 20 é maior ou igual a 18\n",
            "continua...\n"
          ]
        }
      ]
    },
    {
      "cell_type": "markdown",
      "source": [
        "#Utilização do IF ELSE"
      ],
      "metadata": {
        "id": "HabU58GUIsnS"
      }
    },
    {
      "cell_type": "code",
      "source": [
        "#if...else\n",
        "num=int(input(\"Digite um número inteiro: \"))\n",
        "if num%2==0:\n",
        "  print(f\"O número {num} é par!\")\n",
        "else:\n",
        "  print(f\"O número {num} é ímpar!\")"
      ],
      "metadata": {
        "colab": {
          "base_uri": "https://localhost:8080/"
        },
        "id": "yaB3u-0LImFm",
        "outputId": "87bc7614-653c-433e-bd5c-1520129fac68"
      },
      "execution_count": null,
      "outputs": [
        {
          "output_type": "stream",
          "name": "stdout",
          "text": [
            "Digite um número inteiro10\n",
            "O número 10 é par!\n"
          ]
        }
      ]
    },
    {
      "cell_type": "code",
      "source": [
        "login=input(\"Digite o usuário: \")\n",
        "senha=input(\"Digite a senha: \")\n",
        "\n",
        "login_bd=\"bete\"\n",
        "senha_bd=\"1234cinco\"\n",
        "\n",
        "if login==login_bd and senha==senha_bd:\n",
        "  print(\"Acesso liberado \")\n",
        "else:\n",
        "  print(\"Acesso negado \")"
      ],
      "metadata": {
        "colab": {
          "base_uri": "https://localhost:8080/"
        },
        "id": "RhsNz_STKbXK",
        "outputId": "22bba377-cc04-45b7-9905-5b5894674512"
      },
      "execution_count": null,
      "outputs": [
        {
          "output_type": "stream",
          "name": "stdout",
          "text": [
            "Digite o usuário: bete\n",
            "Digite a senha: 1234cinco\n",
            "Acesso liberado \n"
          ]
        }
      ]
    }
  ]
}