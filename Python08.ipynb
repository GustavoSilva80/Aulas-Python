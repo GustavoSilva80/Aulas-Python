{
  "nbformat": 4,
  "nbformat_minor": 0,
  "metadata": {
    "colab": {
      "provenance": [],
      "authorship_tag": "ABX9TyNCrwBGWw+uLA5vTeWXxiUO",
      "include_colab_link": true
    },
    "kernelspec": {
      "name": "python3",
      "display_name": "Python 3"
    },
    "language_info": {
      "name": "python"
    }
  },
  "cells": [
    {
      "cell_type": "markdown",
      "metadata": {
        "id": "view-in-github",
        "colab_type": "text"
      },
      "source": [
        "<a href=\"https://colab.research.google.com/github/GustavoSilva80/Aulas-Python/blob/main/Python08.ipynb\" target=\"_parent\"><img src=\"https://colab.research.google.com/assets/colab-badge.svg\" alt=\"Open In Colab\"/></a>"
      ]
    },
    {
      "cell_type": "markdown",
      "source": [
        "#if..elif..else"
      ],
      "metadata": {
        "id": "MWIHh0su4mD7"
      }
    },
    {
      "cell_type": "code",
      "execution_count": null,
      "metadata": {
        "colab": {
          "base_uri": "https://localhost:8080/"
        },
        "id": "ojIqTsNd1-TI",
        "outputId": "f80a8e0a-a8cc-4abb-9c96-72977668f987"
      },
      "outputs": [
        {
          "output_type": "stream",
          "name": "stdout",
          "text": [
            "Digite uma cor de um semáforo(vermelho ou amarelo ou verde):verde\n",
            "Siga!!\n"
          ]
        }
      ],
      "source": [
        "cor=input(\"Digite uma cor de um semáforo(vermelho ou amarelo ou verde):\")\n",
        "if cor==\"vermelho\":\n",
        "  print(\"Pare!!\")\n",
        "elif cor==\"amarelo\":\n",
        "  print(\"Atenção\")\n",
        "elif cor==\"verde\":\n",
        "  print(\"Siga!!\")\n",
        "else:\n",
        "  print(f\"Não entendi a cor: {cor}\")"
      ]
    },
    {
      "cell_type": "markdown",
      "source": [
        "#While"
      ],
      "metadata": {
        "id": "O4b3EUMS_Cbg"
      }
    },
    {
      "cell_type": "code",
      "source": [
        "#while\n",
        "i=0 #valor inicial\n",
        "while i<=5:#condição\n",
        "  print(i,end=\" \")\n",
        "  i+=1 #contador\n"
      ],
      "metadata": {
        "colab": {
          "base_uri": "https://localhost:8080/"
        },
        "id": "Eu9tlt_x_FLu",
        "outputId": "c9743ce8-c3bd-483f-ecc5-5608ef7a1263"
      },
      "execution_count": 4,
      "outputs": [
        {
          "output_type": "stream",
          "name": "stdout",
          "text": [
            "0 1 2 3 4 5 "
          ]
        }
      ]
    },
    {
      "cell_type": "markdown",
      "source": [
        "saída: 0 1 2 3 4 5\n",
        "\n",
        "1) qual o valor inicial\n",
        "0\n",
        "\n",
        "2) qual a condição\n",
        "<=5\n",
        "\n",
        "3) qual o contador\n",
        "+=1,vai somando 1 ao valor anterior\n",
        "\n",
        "4) quantas vezes o looping foi executado\n",
        "6 vezes,do 0 ao 5\n",
        "\n",
        "5) qual o valor que tornou a condição como falsa\n",
        "6\n"
      ],
      "metadata": {
        "id": "p96aPTnc_0Lf"
      }
    },
    {
      "cell_type": "markdown",
      "source": [
        "saída: 7 8 9 10\n",
        "\n",
        "1) qual o valor inicial\n",
        "7\n",
        "\n",
        "2) qual a condição\n",
        "<=10\n",
        "\n",
        "3) qual o contador\n",
        "+=1\n",
        "\n",
        "4) quantas vezes o looping foi executado\n",
        "4\n",
        "\n",
        "5) qual o valor que tornou a condição como falsa\n",
        "11"
      ],
      "metadata": {
        "id": "NoBHhFxJDvjq"
      }
    },
    {
      "cell_type": "markdown",
      "source": [
        "saída: 3 2 1 0\n",
        "\n",
        "1) qual o valor inicial\n",
        "3\n",
        "\n",
        "2) qual a condição\n",
        ">=0\n",
        "\n",
        "3) qual o contador\n",
        "-=1\n",
        "\n",
        "4) quantas vezes o looping foi executado\n",
        "4\n",
        "\n",
        "5) qual o valor que tornou a condição como falsa\n",
        "-1"
      ],
      "metadata": {
        "id": "afwndDTuFy1Q"
      }
    },
    {
      "cell_type": "markdown",
      "source": [
        "saída:0 2 4 6 8 10\n",
        "\n",
        "1) qual o valor inicial\n",
        "0\n",
        "\n",
        "2) qual a condição\n",
        "<=10\n",
        "\n",
        "3) qual o contador\n",
        "+=2\n",
        "\n",
        "4) quantas vezes o looping foi executado\n",
        "6\n",
        "\n",
        "5) qual o valor que tornou a condição como falsa\n",
        "12"
      ],
      "metadata": {
        "id": "8agcc5XiKSwe"
      }
    },
    {
      "cell_type": "markdown",
      "source": [],
      "metadata": {
        "id": "TYe9JwuzMiHt"
      }
    }
  ]
}