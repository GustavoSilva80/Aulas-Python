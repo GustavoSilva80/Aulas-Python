{
  "nbformat": 4,
  "nbformat_minor": 0,
  "metadata": {
    "colab": {
      "provenance": [],
      "authorship_tag": "ABX9TyMvITT5e1eRX3wVdG5EXASA",
      "include_colab_link": true
    },
    "kernelspec": {
      "name": "python3",
      "display_name": "Python 3"
    },
    "language_info": {
      "name": "python"
    }
  },
  "cells": [
    {
      "cell_type": "markdown",
      "metadata": {
        "id": "view-in-github",
        "colab_type": "text"
      },
      "source": [
        "<a href=\"https://colab.research.google.com/github/GustavoSilva80/Aulas-Python/blob/main/Python06.ipynb\" target=\"_parent\"><img src=\"https://colab.research.google.com/assets/colab-badge.svg\" alt=\"Open In Colab\"/></a>"
      ]
    },
    {
      "cell_type": "markdown",
      "source": [
        "Aula dia 14/04"
      ],
      "metadata": {
        "id": "YQ1hVmEEvSGK"
      }
    },
    {
      "cell_type": "markdown",
      "source": [
        "Calcular porcentagem"
      ],
      "metadata": {
        "id": "3fHxWw9gsrjV"
      }
    },
    {
      "cell_type": "code",
      "execution_count": null,
      "metadata": {
        "id": "WZe6qF_Mr_dB"
      },
      "outputs": [],
      "source": [
        "valor= float(input(\"Digite um valor: \"))\n",
        "porc= float(input(\"Digite uma porcentagem: \"))\n",
        "desconto= valor-(valor*porc/100)\n",
        "aumento= valor+(valor*porc/100)\n",
        "print(\"Valor: \",valor)\n",
        "print(\"Desconto: \",desconto)\n",
        "print(\"Aumento: \",aumento)\n"
      ]
    },
    {
      "cell_type": "markdown",
      "source": [
        "Maquina de caixa eletronico"
      ],
      "metadata": {
        "id": "gRmscv_jxbWJ"
      }
    },
    {
      "cell_type": "code",
      "source": [
        "saque= int(input(\"Digite o valor a ser sacado: \"))\n",
        "\n",
        "notas100=saque//100\n",
        "resto100=saque%100\n",
        "notas50=resto100//50\n",
        "resto50=resto100%50\n",
        "notas20=resto50//20\n",
        "resto20=resto50%20\n",
        "notas10=resto20//10\n",
        "resto10=resto20%10\n",
        "notas5=resto10//5\n",
        "\n",
        "print(\"Notas de R$100: \",notas100)\n",
        "print(\"Notas de R$50: \",notas50)\n",
        "print(\"Notas de R$20: \",notas20)\n",
        "print(\"Notas de R$10: \",notas10)\n",
        "print(\"Notas de R$5: \",notas5)\n",
        "#print(resto100)\n"
      ],
      "metadata": {
        "colab": {
          "base_uri": "https://localhost:8080/"
        },
        "id": "IeSgU4hWyVxU",
        "outputId": "3baecb31-074a-480c-928f-d99b2e68ad5a"
      },
      "execution_count": null,
      "outputs": [
        {
          "output_type": "stream",
          "name": "stdout",
          "text": [
            "Digite o valor a ser sacado: 375\n",
            "Notas de R$100:  3\n",
            "Notas de R$50:  1\n",
            "Notas de R$20:  1\n",
            "Notas de R$10:  0\n",
            "Notas de R$5:  1\n"
          ]
        }
      ]
    },
    {
      "cell_type": "markdown",
      "source": [
        "#Operadores relacionais"
      ],
      "metadata": {
        "id": "YCUM7KIp5wDM"
      }
    },
    {
      "cell_type": "code",
      "source": [
        "nome=input(\"Digite seu nome: \")\n",
        "ano_nasc=int(input(\"Digite o ano em que nasceu: \"))\n",
        "ano_atual=int(input(\"Digite o ano atual: \"))\n",
        "idade=ano_atual-ano_nasc\n",
        "print(f\"{nome},você tem {idade} anos de idade, Tem mais do que 18 anos?,{idade>=18}\")#f string,serve para formatar a strings na linha\n",
        "\n",
        "\n"
      ],
      "metadata": {
        "id": "c3QXAcIh5rdw"
      },
      "execution_count": null,
      "outputs": []
    },
    {
      "cell_type": "code",
      "source": [
        "num1=int(input(\"Digite o primeiro numero: \"))\n",
        "num2=int(input(\"Digite o segundo numero: \"))\n",
        "\n",
        "print(f\"{num1} > {num2} = {num1>num2}\")\n",
        "print(f\"{num1} < {num2} = {num1<num2}\")\n",
        "print(f\"{num1} >= {num2} = {num1>=num2}\")\n",
        "print(f\"{num1} <= {num2} = {num1<=num2}\")\n",
        "print(f\"{num1} == {num2} = {num1==num2}\")\n",
        "print(f\"{num1} != {num2} = {num1!=num2}\")"
      ],
      "metadata": {
        "colab": {
          "base_uri": "https://localhost:8080/"
        },
        "id": "o5mlWqFqAt_E",
        "outputId": "c5c1b43f-4203-4623-91d7-23818ead26a9"
      },
      "execution_count": null,
      "outputs": [
        {
          "output_type": "stream",
          "name": "stdout",
          "text": [
            "Digite o primeiro numero: 10\n",
            "Digite o segundo numero: 5\n",
            "10 > 5 = True\n",
            "10 < 5 = False\n",
            "10 >= 5 = True\n",
            "10 <= 5 = False\n",
            "10 == 5 = False\n",
            "10 != 5 = True\n"
          ]
        }
      ]
    },
    {
      "cell_type": "markdown",
      "source": [
        "#Validar senha\n"
      ],
      "metadata": {
        "id": "VWgUAS6AEY9o"
      }
    },
    {
      "cell_type": "code",
      "source": [
        "senha=input(\"Digite uma senha: \")\n",
        "minha_senha=\"1234\"\n",
        "print(f\"A senha está: {senha==minha_senha}\")\n"
      ],
      "metadata": {
        "colab": {
          "base_uri": "https://localhost:8080/"
        },
        "id": "bomQsitjEbMm",
        "outputId": "dfcb5de4-6f76-423b-9eff-c71ad5c8e4d1"
      },
      "execution_count": null,
      "outputs": [
        {
          "output_type": "stream",
          "name": "stdout",
          "text": [
            "Digite uma senha: 1234\n",
            "A senha está: True\n"
          ]
        }
      ]
    }
  ]
}